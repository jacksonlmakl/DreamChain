{
 "cells": [
  {
   "cell_type": "code",
   "execution_count": 3,
   "id": "50bf63cb-37c3-45d2-b42e-e5644b9ca708",
   "metadata": {},
   "outputs": [],
   "source": [
    "from dreamchain import DreamChainNode,MasterNode, Node"
   ]
  },
  {
   "cell_type": "code",
   "execution_count": 4,
   "id": "a5f2d386-c3c3-40c4-80ba-6866b687a1bd",
   "metadata": {},
   "outputs": [],
   "source": [
    "#Create Master Node created on server 54.197.152.22\n",
    "master_node = MasterNode()\n"
   ]
  },
  {
   "cell_type": "code",
   "execution_count": 10,
   "id": "5e09fb58-7df4-48fa-adc1-115ead617368",
   "metadata": {},
   "outputs": [
    {
     "data": {
      "text/plain": [
       "[{'index': 1,\n",
       "  'timestamp': 1725990278.989395,\n",
       "  'transactions': [],\n",
       "  'proof': 100,\n",
       "  'previous_hash': '1'},\n",
       " {'index': 2,\n",
       "  'timestamp': 1725990331.2935832,\n",
       "  'transactions': [{'sender': 'Alice',\n",
       "    'recipient': 'Bob',\n",
       "    'data': '50 coins'}],\n",
       "  'proof': 35293,\n",
       "  'previous_hash': '2ec0d5779d732f81b9bbfc1c9ed47794006c4c0ad1d39711f03e58f18546b3e6'}]"
      ]
     },
     "execution_count": 10,
     "metadata": {},
     "output_type": "execute_result"
    }
   ],
   "source": [
    "#View chain\n",
    "master_node.get_chain()"
   ]
  },
  {
   "cell_type": "code",
   "execution_count": null,
   "id": "97e54230-b29e-4661-9132-d6096b9d4244",
   "metadata": {},
   "outputs": [],
   "source": [
    "#User 1 joins the network and creates his own node on a different machine\n",
    "node = DreamChainNode(5001)"
   ]
  },
  {
   "cell_type": "code",
   "execution_count": 7,
   "id": "3d4e657c-e985-4dd7-9bdb-3ad77555b12d",
   "metadata": {},
   "outputs": [
    {
     "data": {
      "text/plain": [
       "[{'index': 1,\n",
       "  'timestamp': 1725990279.598835,\n",
       "  'transactions': [],\n",
       "  'proof': 100,\n",
       "  'previous_hash': '1'}]"
      ]
     },
     "execution_count": 7,
     "metadata": {},
     "output_type": "execute_result"
    }
   ],
   "source": [
    "#View chain\n",
    "node.get_chain()"
   ]
  },
  {
   "cell_type": "code",
   "execution_count": 8,
   "id": "a1d53dc3-c03f-44b3-bed2-0b84814dc946",
   "metadata": {},
   "outputs": [
    {
     "name": "stdout",
     "output_type": "stream",
     "text": [
      "Block 2 mined.\n"
     ]
    }
   ],
   "source": [
    "#User 1 adds a transaction & mines block\n",
    "node.add_transaction('Alice', 'Bob', '50 coins')\n",
    "node.mine_block()\n"
   ]
  },
  {
   "cell_type": "code",
   "execution_count": 9,
   "id": "fbebe0cc-ba30-4d9f-88f0-cfead58c5307",
   "metadata": {},
   "outputs": [
    {
     "data": {
      "text/plain": [
       "[{'index': 1,\n",
       "  'timestamp': 1725990279.598835,\n",
       "  'transactions': [],\n",
       "  'proof': 100,\n",
       "  'previous_hash': '1'},\n",
       " {'index': 2,\n",
       "  'timestamp': 1725990331.2935832,\n",
       "  'transactions': [{'sender': 'Alice',\n",
       "    'recipient': 'Bob',\n",
       "    'data': '50 coins'}],\n",
       "  'proof': 35293,\n",
       "  'previous_hash': '2ec0d5779d732f81b9bbfc1c9ed47794006c4c0ad1d39711f03e58f18546b3e6'}]"
      ]
     },
     "execution_count": 9,
     "metadata": {},
     "output_type": "execute_result"
    }
   ],
   "source": [
    "#View chain\n",
    "node.get_chain()"
   ]
  },
  {
   "cell_type": "code",
   "execution_count": null,
   "id": "3ef07997-fc03-46b6-b9b7-5f947e86037e",
   "metadata": {},
   "outputs": [],
   "source": [
    "node2 = Node(5002, ('localhost', 5000))\n"
   ]
  },
  {
   "cell_type": "code",
   "execution_count": null,
   "id": "ab7a93d0-cdf0-485a-a584-64b5bbbb5c91",
   "metadata": {},
   "outputs": [],
   "source": [
    "node2.get_chain()"
   ]
  },
  {
   "cell_type": "code",
   "execution_count": null,
   "id": "9643f044-4564-4471-9d71-8661e2e08c9b",
   "metadata": {},
   "outputs": [],
   "source": [
    "node2.resolve_conflicts()\n"
   ]
  },
  {
   "cell_type": "code",
   "execution_count": null,
   "id": "3c78c83d-a854-437b-9cf3-378bdc8f57c5",
   "metadata": {},
   "outputs": [],
   "source": []
  }
 ],
 "metadata": {
  "kernelspec": {
   "display_name": "Georgetown Env",
   "language": "python",
   "name": "gtown"
  },
  "language_info": {
   "codemirror_mode": {
    "name": "ipython",
    "version": 3
   },
   "file_extension": ".py",
   "mimetype": "text/x-python",
   "name": "python",
   "nbconvert_exporter": "python",
   "pygments_lexer": "ipython3",
   "version": "3.12.3"
  }
 },
 "nbformat": 4,
 "nbformat_minor": 5
}
