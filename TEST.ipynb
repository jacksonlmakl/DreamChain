{
 "cells": [
  {
   "cell_type": "code",
   "execution_count": 1,
   "id": "1f75a2c4-d381-48eb-b6dc-f75b669a37b2",
   "metadata": {},
   "outputs": [
    {
     "name": "stdout",
     "output_type": "stream",
     "text": [
      "Received nodes from master: [('localhost', 5010), ('localhost', 5001)]\n",
      "Registered with node ('localhost', 5010)\n",
      "Current registered nodes: {('localhost', 5010)}\n",
      "Registered with node ('54.197.152.22', 5000)\n",
      "Current registered nodes: {('localhost', 5010), ('54.197.152.22', 5000)}\n",
      "Chain replaced with the longest one from peer.\n",
      "Chain replaced with the longest one.\n",
      "Resolving conflicts to sync with the master node's chain...\n",
      "Our chain is authoritative.\n"
     ]
    }
   ],
   "source": []
  },
  {
   "cell_type": "code",
   "execution_count": 3,
   "id": "426969cb-f2df-4634-b474-df33cb10c9e1",
   "metadata": {},
   "outputs": [
    {
     "name": "stdout",
     "output_type": "stream",
     "text": [
      "Error connecting to master node: [Errno 61] Connection refused\n",
      "Resolving conflicts to sync with the master node's chain...\n",
      "Our chain is authoritative.\n",
      "Broadcasting block 2 to peers...\n",
      "Block 2 mined and broadcasted.\n",
      "Our chain is authoritative.\n"
     ]
    }
   ],
   "source": [
    "from dreamchain import DreamChainNode\n",
    "\n",
    "# Create and connect Node 1\n",
    "node1 = DreamChainNode(5005)\n",
    "\n",
    "# Node 1 mines a block\n",
    "node1.add_transaction('Jackson', 'Jackson', {'Data':'Something'})\n",
    "node1.mine_block()\n"
   ]
  },
  {
   "cell_type": "code",
   "execution_count": 4,
   "id": "946284df-5de5-426e-a3b6-b3904be3d786",
   "metadata": {},
   "outputs": [
    {
     "name": "stdout",
     "output_type": "stream",
     "text": [
      "Resolving conflicts to sync with the latest chain from peers...\n",
      "Our chain is authoritative.\n"
     ]
    },
    {
     "data": {
      "text/plain": [
       "[{'index': 1,\n",
       "  'timestamp': 1726004575.008248,\n",
       "  'transactions': [],\n",
       "  'proof': 100,\n",
       "  'previous_hash': '1'},\n",
       " {'index': 2,\n",
       "  'timestamp': 1726004575.115906,\n",
       "  'transactions': [{'sender': 'Jackson',\n",
       "    'recipient': 'Jackson',\n",
       "    'data': {'Data': 'Something'}}],\n",
       "  'proof': 35293,\n",
       "  'previous_hash': '248124d178dc6b9f77d384162c3676d972134874b04654aef59ba2ee2cbc2202'}]"
      ]
     },
     "execution_count": 4,
     "metadata": {},
     "output_type": "execute_result"
    }
   ],
   "source": [
    "node1.get_chain()"
   ]
  },
  {
   "cell_type": "code",
   "execution_count": null,
   "id": "aa5df97f-06ad-4afd-9e17-8dedc2e90675",
   "metadata": {},
   "outputs": [],
   "source": [
    "from dreamchain import DreamChainNode\n",
    "\n",
    "# Create and connect Node 1\n",
    "node2 = DreamChainNode(5002)\n"
   ]
  },
  {
   "cell_type": "code",
   "execution_count": null,
   "id": "d1bd9baf-62d3-4dde-bac5-56bc1c9e0afa",
   "metadata": {},
   "outputs": [],
   "source": [
    "node2.get_chain()"
   ]
  },
  {
   "cell_type": "code",
   "execution_count": null,
   "id": "336ed8be-0f99-4dc6-b32c-988481366269",
   "metadata": {},
   "outputs": [],
   "source": []
  }
 ],
 "metadata": {
  "kernelspec": {
   "display_name": "Georgetown Env",
   "language": "python",
   "name": "gtown"
  },
  "language_info": {
   "codemirror_mode": {
    "name": "ipython",
    "version": 3
   },
   "file_extension": ".py",
   "mimetype": "text/x-python",
   "name": "python",
   "nbconvert_exporter": "python",
   "pygments_lexer": "ipython3",
   "version": "3.12.3"
  }
 },
 "nbformat": 4,
 "nbformat_minor": 5
}
